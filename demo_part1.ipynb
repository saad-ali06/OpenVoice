{
 "cells": [
  {
   "cell_type": "markdown",
   "id": "b6ee1ede",
   "metadata": {},
   "source": [
    "## Voice Style Control Demo"
   ]
  },
  {
   "cell_type": "code",
   "execution_count": 1,
   "id": "71a3a6db",
   "metadata": {},
   "outputs": [
    {
     "name": "stdout",
     "output_type": "stream",
     "text": [
      "Collecting ipywidgets\n",
      "  Using cached ipywidgets-8.1.5-py3-none-any.whl.metadata (2.3 kB)\n",
      "Requirement already satisfied: comm>=0.1.3 in d:\\e drive\\all projects\\open_voice\\openvoice\\.venv\\lib\\site-packages (from ipywidgets) (0.2.2)\n",
      "Requirement already satisfied: ipython>=6.1.0 in d:\\e drive\\all projects\\open_voice\\openvoice\\.venv\\lib\\site-packages (from ipywidgets) (8.25.0)\n",
      "Requirement already satisfied: traitlets>=4.3.1 in d:\\e drive\\all projects\\open_voice\\openvoice\\.venv\\lib\\site-packages (from ipywidgets) (5.14.3)\n",
      "Collecting widgetsnbextension~=4.0.12 (from ipywidgets)\n",
      "  Using cached widgetsnbextension-4.0.13-py3-none-any.whl.metadata (1.6 kB)\n",
      "Collecting jupyterlab-widgets~=3.0.12 (from ipywidgets)\n",
      "  Using cached jupyterlab_widgets-3.0.13-py3-none-any.whl.metadata (4.1 kB)\n",
      "Requirement already satisfied: decorator in d:\\e drive\\all projects\\open_voice\\openvoice\\.venv\\lib\\site-packages (from ipython>=6.1.0->ipywidgets) (5.1.1)\n",
      "Requirement already satisfied: jedi>=0.16 in d:\\e drive\\all projects\\open_voice\\openvoice\\.venv\\lib\\site-packages (from ipython>=6.1.0->ipywidgets) (0.19.1)\n",
      "Requirement already satisfied: matplotlib-inline in d:\\e drive\\all projects\\open_voice\\openvoice\\.venv\\lib\\site-packages (from ipython>=6.1.0->ipywidgets) (0.1.7)\n",
      "Requirement already satisfied: prompt-toolkit<3.1.0,>=3.0.41 in d:\\e drive\\all projects\\open_voice\\openvoice\\.venv\\lib\\site-packages (from ipython>=6.1.0->ipywidgets) (3.0.47)\n",
      "Requirement already satisfied: pygments>=2.4.0 in d:\\e drive\\all projects\\open_voice\\openvoice\\.venv\\lib\\site-packages (from ipython>=6.1.0->ipywidgets) (2.18.0)\n",
      "Requirement already satisfied: stack-data in d:\\e drive\\all projects\\open_voice\\openvoice\\.venv\\lib\\site-packages (from ipython>=6.1.0->ipywidgets) (0.6.3)\n",
      "Requirement already satisfied: exceptiongroup in d:\\e drive\\all projects\\open_voice\\openvoice\\.venv\\lib\\site-packages (from ipython>=6.1.0->ipywidgets) (1.2.1)\n",
      "Requirement already satisfied: typing-extensions>=4.6 in d:\\e drive\\all projects\\open_voice\\openvoice\\.venv\\lib\\site-packages (from ipython>=6.1.0->ipywidgets) (4.12.2)\n",
      "Requirement already satisfied: colorama in d:\\e drive\\all projects\\open_voice\\openvoice\\.venv\\lib\\site-packages (from ipython>=6.1.0->ipywidgets) (0.4.6)\n",
      "Requirement already satisfied: parso<0.9.0,>=0.8.3 in d:\\e drive\\all projects\\open_voice\\openvoice\\.venv\\lib\\site-packages (from jedi>=0.16->ipython>=6.1.0->ipywidgets) (0.8.4)\n",
      "Requirement already satisfied: wcwidth in d:\\e drive\\all projects\\open_voice\\openvoice\\.venv\\lib\\site-packages (from prompt-toolkit<3.1.0,>=3.0.41->ipython>=6.1.0->ipywidgets) (0.2.13)\n",
      "Requirement already satisfied: executing>=1.2.0 in d:\\e drive\\all projects\\open_voice\\openvoice\\.venv\\lib\\site-packages (from stack-data->ipython>=6.1.0->ipywidgets) (2.0.1)\n",
      "Requirement already satisfied: asttokens>=2.1.0 in d:\\e drive\\all projects\\open_voice\\openvoice\\.venv\\lib\\site-packages (from stack-data->ipython>=6.1.0->ipywidgets) (2.4.1)\n",
      "Requirement already satisfied: pure-eval in d:\\e drive\\all projects\\open_voice\\openvoice\\.venv\\lib\\site-packages (from stack-data->ipython>=6.1.0->ipywidgets) (0.2.2)\n",
      "Requirement already satisfied: six>=1.12.0 in d:\\e drive\\all projects\\open_voice\\openvoice\\.venv\\lib\\site-packages (from asttokens>=2.1.0->stack-data->ipython>=6.1.0->ipywidgets) (1.16.0)\n",
      "Using cached ipywidgets-8.1.5-py3-none-any.whl (139 kB)\n",
      "Using cached jupyterlab_widgets-3.0.13-py3-none-any.whl (214 kB)\n",
      "Using cached widgetsnbextension-4.0.13-py3-none-any.whl (2.3 MB)\n",
      "Installing collected packages: widgetsnbextension, jupyterlab-widgets, ipywidgets\n",
      "Successfully installed ipywidgets-8.1.5 jupyterlab-widgets-3.0.13 widgetsnbextension-4.0.13\n",
      "Note: you may need to restart the kernel to use updated packages.\n"
     ]
    },
    {
     "name": "stderr",
     "output_type": "stream",
     "text": [
      "\n",
      "[notice] A new release of pip is available: 24.1 -> 24.3.1\n",
      "[notice] To update, run: python.exe -m pip install --upgrade pip\n"
     ]
    },
    {
     "name": "stdout",
     "output_type": "stream",
     "text": [
      "Requirement already satisfied: numpy in d:\\e drive\\all projects\\open_voice\\openvoice\\.venv\\lib\\site-packages (1.22.0)\n",
      "Note: you may need to restart the kernel to use updated packages.\n"
     ]
    },
    {
     "name": "stderr",
     "output_type": "stream",
     "text": [
      "\n",
      "[notice] A new release of pip is available: 24.1 -> 24.3.1\n",
      "[notice] To update, run: python.exe -m pip install --upgrade pip\n"
     ]
    },
    {
     "name": "stdout",
     "output_type": "stream",
     "text": [
      "Requirement already satisfied: cython in d:\\e drive\\all projects\\open_voice\\openvoice\\.venv\\lib\\site-packages (3.0.10)\n",
      "Note: you may need to restart the kernel to use updated packages.\n"
     ]
    },
    {
     "name": "stderr",
     "output_type": "stream",
     "text": [
      "\n",
      "[notice] A new release of pip is available: 24.1 -> 24.3.1\n",
      "[notice] To update, run: python.exe -m pip install --upgrade pip\n"
     ]
    },
    {
     "name": "stdout",
     "output_type": "stream",
     "text": [
      "Requirement already satisfied: torch in d:\\e drive\\all projects\\open_voice\\openvoice\\.venv\\lib\\site-packages (2.3.1)\n",
      "Requirement already satisfied: filelock in d:\\e drive\\all projects\\open_voice\\openvoice\\.venv\\lib\\site-packages (from torch) (3.15.4)\n",
      "Requirement already satisfied: typing-extensions>=4.8.0 in d:\\e drive\\all projects\\open_voice\\openvoice\\.venv\\lib\\site-packages (from torch) (4.12.2)\n",
      "Requirement already satisfied: sympy in d:\\e drive\\all projects\\open_voice\\openvoice\\.venv\\lib\\site-packages (from torch) (1.12.1)\n",
      "Requirement already satisfied: networkx in d:\\e drive\\all projects\\open_voice\\openvoice\\.venv\\lib\\site-packages (from torch) (3.3)\n",
      "Requirement already satisfied: jinja2 in d:\\e drive\\all projects\\open_voice\\openvoice\\.venv\\lib\\site-packages (from torch) (3.1.4)\n",
      "Requirement already satisfied: fsspec in d:\\e drive\\all projects\\open_voice\\openvoice\\.venv\\lib\\site-packages (from torch) (2024.6.0)\n",
      "Requirement already satisfied: mkl<=2021.4.0,>=2021.1.1 in d:\\e drive\\all projects\\open_voice\\openvoice\\.venv\\lib\\site-packages (from torch) (2021.4.0)\n",
      "Requirement already satisfied: intel-openmp==2021.* in d:\\e drive\\all projects\\open_voice\\openvoice\\.venv\\lib\\site-packages (from mkl<=2021.4.0,>=2021.1.1->torch) (2021.4.0)\n",
      "Requirement already satisfied: tbb==2021.* in d:\\e drive\\all projects\\open_voice\\openvoice\\.venv\\lib\\site-packages (from mkl<=2021.4.0,>=2021.1.1->torch) (2021.13.0)\n",
      "Requirement already satisfied: MarkupSafe>=2.0 in d:\\e drive\\all projects\\open_voice\\openvoice\\.venv\\lib\\site-packages (from jinja2->torch) (2.1.5)\n",
      "Requirement already satisfied: mpmath<1.4.0,>=1.1.0 in d:\\e drive\\all projects\\open_voice\\openvoice\\.venv\\lib\\site-packages (from sympy->torch) (1.3.0)\n",
      "Note: you may need to restart the kernel to use updated packages.\n"
     ]
    },
    {
     "name": "stderr",
     "output_type": "stream",
     "text": [
      "\n",
      "[notice] A new release of pip is available: 24.1 -> 24.3.1\n",
      "[notice] To update, run: python.exe -m pip install --upgrade pip\n"
     ]
    }
   ],
   "source": [
    "%pip install ipywidgets\n",
    "%pip install numpy\n",
    "%pip install cython\n",
    "%pip install torch"
   ]
  },
  {
   "cell_type": "code",
   "execution_count": 2,
   "id": "2a40c652",
   "metadata": {},
   "outputs": [
    {
     "name": "stdout",
     "output_type": "stream",
     "text": [
      "Requirement already satisfied: librosa in d:\\e drive\\all projects\\open_voice\\openvoice\\.venv\\lib\\site-packages (0.9.1)\n",
      "Requirement already satisfied: audioread>=2.1.5 in d:\\e drive\\all projects\\open_voice\\openvoice\\.venv\\lib\\site-packages (from librosa) (3.0.1)\n",
      "Requirement already satisfied: numpy>=1.17.0 in d:\\e drive\\all projects\\open_voice\\openvoice\\.venv\\lib\\site-packages (from librosa) (1.22.0)\n",
      "Requirement already satisfied: scipy>=1.2.0 in d:\\e drive\\all projects\\open_voice\\openvoice\\.venv\\lib\\site-packages (from librosa) (1.11.4)\n",
      "Requirement already satisfied: scikit-learn>=0.19.1 in d:\\e drive\\all projects\\open_voice\\openvoice\\.venv\\lib\\site-packages (from librosa) (1.5.0)\n",
      "Requirement already satisfied: joblib>=0.14 in d:\\e drive\\all projects\\open_voice\\openvoice\\.venv\\lib\\site-packages (from librosa) (1.4.2)\n",
      "Requirement already satisfied: decorator>=4.0.10 in d:\\e drive\\all projects\\open_voice\\openvoice\\.venv\\lib\\site-packages (from librosa) (5.1.1)\n",
      "Requirement already satisfied: resampy>=0.2.2 in d:\\e drive\\all projects\\open_voice\\openvoice\\.venv\\lib\\site-packages (from librosa) (0.4.3)\n",
      "Requirement already satisfied: numba>=0.45.1 in d:\\e drive\\all projects\\open_voice\\openvoice\\.venv\\lib\\site-packages (from librosa) (0.60.0)\n",
      "Requirement already satisfied: soundfile>=0.10.2 in d:\\e drive\\all projects\\open_voice\\openvoice\\.venv\\lib\\site-packages (from librosa) (0.12.1)\n",
      "Requirement already satisfied: pooch>=1.0 in d:\\e drive\\all projects\\open_voice\\openvoice\\.venv\\lib\\site-packages (from librosa) (1.8.2)\n",
      "Requirement already satisfied: packaging>=20.0 in d:\\e drive\\all projects\\open_voice\\openvoice\\.venv\\lib\\site-packages (from librosa) (24.1)\n",
      "Requirement already satisfied: llvmlite<0.44,>=0.43.0dev0 in d:\\e drive\\all projects\\open_voice\\openvoice\\.venv\\lib\\site-packages (from numba>=0.45.1->librosa) (0.43.0)\n",
      "Requirement already satisfied: platformdirs>=2.5.0 in d:\\e drive\\all projects\\open_voice\\openvoice\\.venv\\lib\\site-packages (from pooch>=1.0->librosa) (4.2.2)\n",
      "Requirement already satisfied: requests>=2.19.0 in d:\\e drive\\all projects\\open_voice\\openvoice\\.venv\\lib\\site-packages (from pooch>=1.0->librosa) (2.32.3)\n",
      "Requirement already satisfied: threadpoolctl>=3.1.0 in d:\\e drive\\all projects\\open_voice\\openvoice\\.venv\\lib\\site-packages (from scikit-learn>=0.19.1->librosa) (3.5.0)\n",
      "Requirement already satisfied: cffi>=1.0 in d:\\e drive\\all projects\\open_voice\\openvoice\\.venv\\lib\\site-packages (from soundfile>=0.10.2->librosa) (1.16.0)\n",
      "Requirement already satisfied: pycparser in d:\\e drive\\all projects\\open_voice\\openvoice\\.venv\\lib\\site-packages (from cffi>=1.0->soundfile>=0.10.2->librosa) (2.22)\n",
      "Requirement already satisfied: charset-normalizer<4,>=2 in d:\\e drive\\all projects\\open_voice\\openvoice\\.venv\\lib\\site-packages (from requests>=2.19.0->pooch>=1.0->librosa) (3.3.2)\n",
      "Requirement already satisfied: idna<4,>=2.5 in d:\\e drive\\all projects\\open_voice\\openvoice\\.venv\\lib\\site-packages (from requests>=2.19.0->pooch>=1.0->librosa) (3.7)\n",
      "Requirement already satisfied: urllib3<3,>=1.21.1 in d:\\e drive\\all projects\\open_voice\\openvoice\\.venv\\lib\\site-packages (from requests>=2.19.0->pooch>=1.0->librosa) (2.2.2)\n",
      "Requirement already satisfied: certifi>=2017.4.17 in d:\\e drive\\all projects\\open_voice\\openvoice\\.venv\\lib\\site-packages (from requests>=2.19.0->pooch>=1.0->librosa) (2024.6.2)\n",
      "Note: you may need to restart the kernel to use updated packages.\n"
     ]
    },
    {
     "name": "stderr",
     "output_type": "stream",
     "text": [
      "\n",
      "[notice] A new release of pip is available: 24.1 -> 24.3.1\n",
      "[notice] To update, run: python.exe -m pip install --upgrade pip\n"
     ]
    },
    {
     "name": "stdout",
     "output_type": "stream",
     "text": [
      "Requirement already satisfied: pydub in d:\\e drive\\all projects\\open_voice\\openvoice\\.venv\\lib\\site-packages (0.25.1)\n",
      "Note: you may need to restart the kernel to use updated packages.\n"
     ]
    },
    {
     "name": "stderr",
     "output_type": "stream",
     "text": [
      "\n",
      "[notice] A new release of pip is available: 24.1 -> 24.3.1\n",
      "[notice] To update, run: python.exe -m pip install --upgrade pip\n"
     ]
    },
    {
     "name": "stdout",
     "output_type": "stream",
     "text": [
      "Requirement already satisfied: faster_whisper in d:\\e drive\\all projects\\open_voice\\openvoice\\.venv\\lib\\site-packages (0.9.0)\n",
      "Requirement already satisfied: av==10.* in d:\\e drive\\all projects\\open_voice\\openvoice\\.venv\\lib\\site-packages (from faster_whisper) (10.0.0)\n",
      "Requirement already satisfied: ctranslate2<4,>=3.17 in d:\\e drive\\all projects\\open_voice\\openvoice\\.venv\\lib\\site-packages (from faster_whisper) (3.24.0)\n",
      "Requirement already satisfied: huggingface-hub>=0.13 in d:\\e drive\\all projects\\open_voice\\openvoice\\.venv\\lib\\site-packages (from faster_whisper) (0.17.3)\n",
      "Requirement already satisfied: tokenizers<0.15,>=0.13 in d:\\e drive\\all projects\\open_voice\\openvoice\\.venv\\lib\\site-packages (from faster_whisper) (0.14.1)\n",
      "Requirement already satisfied: onnxruntime<2,>=1.14 in d:\\e drive\\all projects\\open_voice\\openvoice\\.venv\\lib\\site-packages (from faster_whisper) (1.18.0)\n",
      "Requirement already satisfied: setuptools in d:\\e drive\\all projects\\open_voice\\openvoice\\.venv\\lib\\site-packages (from ctranslate2<4,>=3.17->faster_whisper) (65.5.0)\n",
      "Requirement already satisfied: numpy in d:\\e drive\\all projects\\open_voice\\openvoice\\.venv\\lib\\site-packages (from ctranslate2<4,>=3.17->faster_whisper) (1.22.0)\n",
      "Requirement already satisfied: pyyaml<7,>=5.3 in d:\\e drive\\all projects\\open_voice\\openvoice\\.venv\\lib\\site-packages (from ctranslate2<4,>=3.17->faster_whisper) (6.0.1)\n",
      "Requirement already satisfied: filelock in d:\\e drive\\all projects\\open_voice\\openvoice\\.venv\\lib\\site-packages (from huggingface-hub>=0.13->faster_whisper) (3.15.4)\n",
      "Requirement already satisfied: fsspec in d:\\e drive\\all projects\\open_voice\\openvoice\\.venv\\lib\\site-packages (from huggingface-hub>=0.13->faster_whisper) (2024.6.0)\n",
      "Requirement already satisfied: requests in d:\\e drive\\all projects\\open_voice\\openvoice\\.venv\\lib\\site-packages (from huggingface-hub>=0.13->faster_whisper) (2.32.3)\n",
      "Requirement already satisfied: tqdm>=4.42.1 in d:\\e drive\\all projects\\open_voice\\openvoice\\.venv\\lib\\site-packages (from huggingface-hub>=0.13->faster_whisper) (4.66.4)\n",
      "Requirement already satisfied: typing-extensions>=3.7.4.3 in d:\\e drive\\all projects\\open_voice\\openvoice\\.venv\\lib\\site-packages (from huggingface-hub>=0.13->faster_whisper) (4.12.2)\n",
      "Requirement already satisfied: packaging>=20.9 in d:\\e drive\\all projects\\open_voice\\openvoice\\.venv\\lib\\site-packages (from huggingface-hub>=0.13->faster_whisper) (24.1)\n",
      "Requirement already satisfied: coloredlogs in d:\\e drive\\all projects\\open_voice\\openvoice\\.venv\\lib\\site-packages (from onnxruntime<2,>=1.14->faster_whisper) (15.0.1)\n",
      "Requirement already satisfied: flatbuffers in d:\\e drive\\all projects\\open_voice\\openvoice\\.venv\\lib\\site-packages (from onnxruntime<2,>=1.14->faster_whisper) (24.3.25)\n",
      "Requirement already satisfied: protobuf in d:\\e drive\\all projects\\open_voice\\openvoice\\.venv\\lib\\site-packages (from onnxruntime<2,>=1.14->faster_whisper) (5.27.1)\n",
      "Requirement already satisfied: sympy in d:\\e drive\\all projects\\open_voice\\openvoice\\.venv\\lib\\site-packages (from onnxruntime<2,>=1.14->faster_whisper) (1.12.1)\n",
      "Requirement already satisfied: colorama in d:\\e drive\\all projects\\open_voice\\openvoice\\.venv\\lib\\site-packages (from tqdm>=4.42.1->huggingface-hub>=0.13->faster_whisper) (0.4.6)\n",
      "Requirement already satisfied: humanfriendly>=9.1 in d:\\e drive\\all projects\\open_voice\\openvoice\\.venv\\lib\\site-packages (from coloredlogs->onnxruntime<2,>=1.14->faster_whisper) (10.0)\n",
      "Requirement already satisfied: charset-normalizer<4,>=2 in d:\\e drive\\all projects\\open_voice\\openvoice\\.venv\\lib\\site-packages (from requests->huggingface-hub>=0.13->faster_whisper) (3.3.2)\n",
      "Requirement already satisfied: idna<4,>=2.5 in d:\\e drive\\all projects\\open_voice\\openvoice\\.venv\\lib\\site-packages (from requests->huggingface-hub>=0.13->faster_whisper) (3.7)\n",
      "Requirement already satisfied: urllib3<3,>=1.21.1 in d:\\e drive\\all projects\\open_voice\\openvoice\\.venv\\lib\\site-packages (from requests->huggingface-hub>=0.13->faster_whisper) (2.2.2)\n",
      "Requirement already satisfied: certifi>=2017.4.17 in d:\\e drive\\all projects\\open_voice\\openvoice\\.venv\\lib\\site-packages (from requests->huggingface-hub>=0.13->faster_whisper) (2024.6.2)\n",
      "Requirement already satisfied: mpmath<1.4.0,>=1.1.0 in d:\\e drive\\all projects\\open_voice\\openvoice\\.venv\\lib\\site-packages (from sympy->onnxruntime<2,>=1.14->faster_whisper) (1.3.0)\n",
      "Requirement already satisfied: pyreadline3 in d:\\e drive\\all projects\\open_voice\\openvoice\\.venv\\lib\\site-packages (from humanfriendly>=9.1->coloredlogs->onnxruntime<2,>=1.14->faster_whisper) (3.4.1)\n",
      "Note: you may need to restart the kernel to use updated packages.\n"
     ]
    },
    {
     "name": "stderr",
     "output_type": "stream",
     "text": [
      "\n",
      "[notice] A new release of pip is available: 24.1 -> 24.3.1\n",
      "[notice] To update, run: python.exe -m pip install --upgrade pip\n"
     ]
    },
    {
     "name": "stdout",
     "output_type": "stream",
     "text": [
      "Requirement already satisfied: whisper_timestamped in d:\\e drive\\all projects\\open_voice\\openvoice\\.venv\\lib\\site-packages (1.14.2)\n",
      "Requirement already satisfied: Cython in d:\\e drive\\all projects\\open_voice\\openvoice\\.venv\\lib\\site-packages (from whisper_timestamped) (3.0.10)\n",
      "Requirement already satisfied: dtw-python in d:\\e drive\\all projects\\open_voice\\openvoice\\.venv\\lib\\site-packages (from whisper_timestamped) (1.4.4)\n",
      "Requirement already satisfied: openai-whisper in d:\\e drive\\all projects\\open_voice\\openvoice\\.venv\\lib\\site-packages (from whisper_timestamped) (20231117)\n",
      "Requirement already satisfied: numpy>=1.19 in d:\\e drive\\all projects\\open_voice\\openvoice\\.venv\\lib\\site-packages (from dtw-python->whisper_timestamped) (1.22.0)\n",
      "Requirement already satisfied: scipy>=1.1 in d:\\e drive\\all projects\\open_voice\\openvoice\\.venv\\lib\\site-packages (from dtw-python->whisper_timestamped) (1.11.4)\n",
      "Requirement already satisfied: numba in d:\\e drive\\all projects\\open_voice\\openvoice\\.venv\\lib\\site-packages (from openai-whisper->whisper_timestamped) (0.60.0)\n",
      "Requirement already satisfied: torch in d:\\e drive\\all projects\\open_voice\\openvoice\\.venv\\lib\\site-packages (from openai-whisper->whisper_timestamped) (2.3.1)\n",
      "Requirement already satisfied: tqdm in d:\\e drive\\all projects\\open_voice\\openvoice\\.venv\\lib\\site-packages (from openai-whisper->whisper_timestamped) (4.66.4)\n",
      "Requirement already satisfied: more-itertools in d:\\e drive\\all projects\\open_voice\\openvoice\\.venv\\lib\\site-packages (from openai-whisper->whisper_timestamped) (10.3.0)\n",
      "Requirement already satisfied: tiktoken in d:\\e drive\\all projects\\open_voice\\openvoice\\.venv\\lib\\site-packages (from openai-whisper->whisper_timestamped) (0.7.0)\n",
      "Requirement already satisfied: llvmlite<0.44,>=0.43.0dev0 in d:\\e drive\\all projects\\open_voice\\openvoice\\.venv\\lib\\site-packages (from numba->openai-whisper->whisper_timestamped) (0.43.0)\n",
      "Requirement already satisfied: regex>=2022.1.18 in d:\\e drive\\all projects\\open_voice\\openvoice\\.venv\\lib\\site-packages (from tiktoken->openai-whisper->whisper_timestamped) (2024.5.15)\n",
      "Requirement already satisfied: requests>=2.26.0 in d:\\e drive\\all projects\\open_voice\\openvoice\\.venv\\lib\\site-packages (from tiktoken->openai-whisper->whisper_timestamped) (2.32.3)\n",
      "Requirement already satisfied: filelock in d:\\e drive\\all projects\\open_voice\\openvoice\\.venv\\lib\\site-packages (from torch->openai-whisper->whisper_timestamped) (3.15.4)\n",
      "Requirement already satisfied: typing-extensions>=4.8.0 in d:\\e drive\\all projects\\open_voice\\openvoice\\.venv\\lib\\site-packages (from torch->openai-whisper->whisper_timestamped) (4.12.2)\n",
      "Requirement already satisfied: sympy in d:\\e drive\\all projects\\open_voice\\openvoice\\.venv\\lib\\site-packages (from torch->openai-whisper->whisper_timestamped) (1.12.1)\n",
      "Requirement already satisfied: networkx in d:\\e drive\\all projects\\open_voice\\openvoice\\.venv\\lib\\site-packages (from torch->openai-whisper->whisper_timestamped) (3.3)\n",
      "Requirement already satisfied: jinja2 in d:\\e drive\\all projects\\open_voice\\openvoice\\.venv\\lib\\site-packages (from torch->openai-whisper->whisper_timestamped) (3.1.4)\n",
      "Requirement already satisfied: fsspec in d:\\e drive\\all projects\\open_voice\\openvoice\\.venv\\lib\\site-packages (from torch->openai-whisper->whisper_timestamped) (2024.6.0)\n",
      "Requirement already satisfied: mkl<=2021.4.0,>=2021.1.1 in d:\\e drive\\all projects\\open_voice\\openvoice\\.venv\\lib\\site-packages (from torch->openai-whisper->whisper_timestamped) (2021.4.0)\n",
      "Requirement already satisfied: colorama in d:\\e drive\\all projects\\open_voice\\openvoice\\.venv\\lib\\site-packages (from tqdm->openai-whisper->whisper_timestamped) (0.4.6)\n",
      "Requirement already satisfied: intel-openmp==2021.* in d:\\e drive\\all projects\\open_voice\\openvoice\\.venv\\lib\\site-packages (from mkl<=2021.4.0,>=2021.1.1->torch->openai-whisper->whisper_timestamped) (2021.4.0)\n",
      "Requirement already satisfied: tbb==2021.* in d:\\e drive\\all projects\\open_voice\\openvoice\\.venv\\lib\\site-packages (from mkl<=2021.4.0,>=2021.1.1->torch->openai-whisper->whisper_timestamped) (2021.13.0)\n",
      "Requirement already satisfied: charset-normalizer<4,>=2 in d:\\e drive\\all projects\\open_voice\\openvoice\\.venv\\lib\\site-packages (from requests>=2.26.0->tiktoken->openai-whisper->whisper_timestamped) (3.3.2)\n",
      "Requirement already satisfied: idna<4,>=2.5 in d:\\e drive\\all projects\\open_voice\\openvoice\\.venv\\lib\\site-packages (from requests>=2.26.0->tiktoken->openai-whisper->whisper_timestamped) (3.7)\n",
      "Requirement already satisfied: urllib3<3,>=1.21.1 in d:\\e drive\\all projects\\open_voice\\openvoice\\.venv\\lib\\site-packages (from requests>=2.26.0->tiktoken->openai-whisper->whisper_timestamped) (2.2.2)\n",
      "Requirement already satisfied: certifi>=2017.4.17 in d:\\e drive\\all projects\\open_voice\\openvoice\\.venv\\lib\\site-packages (from requests>=2.26.0->tiktoken->openai-whisper->whisper_timestamped) (2024.6.2)\n",
      "Requirement already satisfied: MarkupSafe>=2.0 in d:\\e drive\\all projects\\open_voice\\openvoice\\.venv\\lib\\site-packages (from jinja2->torch->openai-whisper->whisper_timestamped) (2.1.5)\n",
      "Requirement already satisfied: mpmath<1.4.0,>=1.1.0 in d:\\e drive\\all projects\\open_voice\\openvoice\\.venv\\lib\\site-packages (from sympy->torch->openai-whisper->whisper_timestamped) (1.3.0)\n",
      "Note: you may need to restart the kernel to use updated packages.\n"
     ]
    },
    {
     "name": "stderr",
     "output_type": "stream",
     "text": [
      "\n",
      "[notice] A new release of pip is available: 24.1 -> 24.3.1\n",
      "[notice] To update, run: python.exe -m pip install --upgrade pip\n"
     ]
    }
   ],
   "source": [
    "%pip install librosa\n",
    "%pip install pydub\n",
    "%pip install faster_whisper\n",
    "%pip install whisper_timestamped"
   ]
  },
  {
   "cell_type": "code",
   "execution_count": 3,
   "id": "9687f5ef",
   "metadata": {},
   "outputs": [
    {
     "name": "stdout",
     "output_type": "stream",
     "text": [
      "Requirement already satisfied: inflect in d:\\e drive\\all projects\\open_voice\\openvoice\\.venv\\lib\\site-packages (7.0.0)\n",
      "Requirement already satisfied: pydantic>=1.9.1 in d:\\e drive\\all projects\\open_voice\\openvoice\\.venv\\lib\\site-packages (from inflect) (2.7.4)\n",
      "Requirement already satisfied: typing-extensions in d:\\e drive\\all projects\\open_voice\\openvoice\\.venv\\lib\\site-packages (from inflect) (4.12.2)\n",
      "Requirement already satisfied: annotated-types>=0.4.0 in d:\\e drive\\all projects\\open_voice\\openvoice\\.venv\\lib\\site-packages (from pydantic>=1.9.1->inflect) (0.7.0)\n",
      "Requirement already satisfied: pydantic-core==2.18.4 in d:\\e drive\\all projects\\open_voice\\openvoice\\.venv\\lib\\site-packages (from pydantic>=1.9.1->inflect) (2.18.4)\n",
      "Note: you may need to restart the kernel to use updated packages.\n"
     ]
    },
    {
     "name": "stderr",
     "output_type": "stream",
     "text": [
      "\n",
      "[notice] A new release of pip is available: 24.1 -> 24.3.1\n",
      "[notice] To update, run: python.exe -m pip install --upgrade pip\n"
     ]
    }
   ],
   "source": [
    "%pip install inflect"
   ]
  },
  {
   "cell_type": "code",
   "execution_count": 4,
   "id": "138086a0",
   "metadata": {},
   "outputs": [
    {
     "name": "stdout",
     "output_type": "stream",
     "text": [
      "Requirement already satisfied: ttsmms in d:\\e drive\\all projects\\open_voice\\openvoice\\.venv\\lib\\site-packages (0.7)\n",
      "Requirement already satisfied: Cython in d:\\e drive\\all projects\\open_voice\\openvoice\\.venv\\lib\\site-packages (from ttsmms) (3.0.10)\n",
      "Requirement already satisfied: librosa in d:\\e drive\\all projects\\open_voice\\openvoice\\.venv\\lib\\site-packages (from ttsmms) (0.9.1)\n",
      "Requirement already satisfied: scipy in d:\\e drive\\all projects\\open_voice\\openvoice\\.venv\\lib\\site-packages (from ttsmms) (1.11.4)\n",
      "Requirement already satisfied: numpy in d:\\e drive\\all projects\\open_voice\\openvoice\\.venv\\lib\\site-packages (from ttsmms) (1.22.0)\n",
      "Requirement already satisfied: phonemizer in d:\\e drive\\all projects\\open_voice\\openvoice\\.venv\\lib\\site-packages (from ttsmms) (3.2.1)\n",
      "Requirement already satisfied: torch in d:\\e drive\\all projects\\open_voice\\openvoice\\.venv\\lib\\site-packages (from ttsmms) (2.3.1)\n",
      "Requirement already satisfied: torchvision in d:\\e drive\\all projects\\open_voice\\openvoice\\.venv\\lib\\site-packages (from ttsmms) (0.18.1)\n",
      "Requirement already satisfied: Unidecode in d:\\e drive\\all projects\\open_voice\\openvoice\\.venv\\lib\\site-packages (from ttsmms) (1.3.7)\n",
      "Requirement already satisfied: monotonic-align in d:\\e drive\\all projects\\open_voice\\openvoice\\.venv\\lib\\site-packages (from ttsmms) (1.0.0)\n",
      "Requirement already satisfied: audioread>=2.1.5 in d:\\e drive\\all projects\\open_voice\\openvoice\\.venv\\lib\\site-packages (from librosa->ttsmms) (3.0.1)\n",
      "Requirement already satisfied: scikit-learn>=0.19.1 in d:\\e drive\\all projects\\open_voice\\openvoice\\.venv\\lib\\site-packages (from librosa->ttsmms) (1.5.0)\n",
      "Requirement already satisfied: joblib>=0.14 in d:\\e drive\\all projects\\open_voice\\openvoice\\.venv\\lib\\site-packages (from librosa->ttsmms) (1.4.2)\n",
      "Requirement already satisfied: decorator>=4.0.10 in d:\\e drive\\all projects\\open_voice\\openvoice\\.venv\\lib\\site-packages (from librosa->ttsmms) (5.1.1)\n",
      "Requirement already satisfied: resampy>=0.2.2 in d:\\e drive\\all projects\\open_voice\\openvoice\\.venv\\lib\\site-packages (from librosa->ttsmms) (0.4.3)\n",
      "Requirement already satisfied: numba>=0.45.1 in d:\\e drive\\all projects\\open_voice\\openvoice\\.venv\\lib\\site-packages (from librosa->ttsmms) (0.60.0)\n",
      "Requirement already satisfied: soundfile>=0.10.2 in d:\\e drive\\all projects\\open_voice\\openvoice\\.venv\\lib\\site-packages (from librosa->ttsmms) (0.12.1)\n",
      "Requirement already satisfied: pooch>=1.0 in d:\\e drive\\all projects\\open_voice\\openvoice\\.venv\\lib\\site-packages (from librosa->ttsmms) (1.8.2)\n",
      "Requirement already satisfied: packaging>=20.0 in d:\\e drive\\all projects\\open_voice\\openvoice\\.venv\\lib\\site-packages (from librosa->ttsmms) (24.1)\n",
      "Requirement already satisfied: segments in d:\\e drive\\all projects\\open_voice\\openvoice\\.venv\\lib\\site-packages (from phonemizer->ttsmms) (2.2.1)\n",
      "Requirement already satisfied: attrs>=18.1 in d:\\e drive\\all projects\\open_voice\\openvoice\\.venv\\lib\\site-packages (from phonemizer->ttsmms) (23.2.0)\n",
      "Requirement already satisfied: dlinfo in d:\\e drive\\all projects\\open_voice\\openvoice\\.venv\\lib\\site-packages (from phonemizer->ttsmms) (1.2.1)\n",
      "Requirement already satisfied: typing-extensions in d:\\e drive\\all projects\\open_voice\\openvoice\\.venv\\lib\\site-packages (from phonemizer->ttsmms) (4.12.2)\n",
      "Requirement already satisfied: filelock in d:\\e drive\\all projects\\open_voice\\openvoice\\.venv\\lib\\site-packages (from torch->ttsmms) (3.15.4)\n",
      "Requirement already satisfied: sympy in d:\\e drive\\all projects\\open_voice\\openvoice\\.venv\\lib\\site-packages (from torch->ttsmms) (1.12.1)\n",
      "Requirement already satisfied: networkx in d:\\e drive\\all projects\\open_voice\\openvoice\\.venv\\lib\\site-packages (from torch->ttsmms) (3.3)\n",
      "Requirement already satisfied: jinja2 in d:\\e drive\\all projects\\open_voice\\openvoice\\.venv\\lib\\site-packages (from torch->ttsmms) (3.1.4)\n",
      "Requirement already satisfied: fsspec in d:\\e drive\\all projects\\open_voice\\openvoice\\.venv\\lib\\site-packages (from torch->ttsmms) (2024.6.0)\n",
      "Requirement already satisfied: mkl<=2021.4.0,>=2021.1.1 in d:\\e drive\\all projects\\open_voice\\openvoice\\.venv\\lib\\site-packages (from torch->ttsmms) (2021.4.0)\n",
      "Requirement already satisfied: pillow!=8.3.*,>=5.3.0 in d:\\e drive\\all projects\\open_voice\\openvoice\\.venv\\lib\\site-packages (from torchvision->ttsmms) (10.3.0)\n",
      "Requirement already satisfied: intel-openmp==2021.* in d:\\e drive\\all projects\\open_voice\\openvoice\\.venv\\lib\\site-packages (from mkl<=2021.4.0,>=2021.1.1->torch->ttsmms) (2021.4.0)\n",
      "Requirement already satisfied: tbb==2021.* in d:\\e drive\\all projects\\open_voice\\openvoice\\.venv\\lib\\site-packages (from mkl<=2021.4.0,>=2021.1.1->torch->ttsmms) (2021.13.0)\n",
      "Requirement already satisfied: llvmlite<0.44,>=0.43.0dev0 in d:\\e drive\\all projects\\open_voice\\openvoice\\.venv\\lib\\site-packages (from numba>=0.45.1->librosa->ttsmms) (0.43.0)\n",
      "Requirement already satisfied: platformdirs>=2.5.0 in d:\\e drive\\all projects\\open_voice\\openvoice\\.venv\\lib\\site-packages (from pooch>=1.0->librosa->ttsmms) (4.2.2)\n",
      "Requirement already satisfied: requests>=2.19.0 in d:\\e drive\\all projects\\open_voice\\openvoice\\.venv\\lib\\site-packages (from pooch>=1.0->librosa->ttsmms) (2.32.3)\n",
      "Requirement already satisfied: threadpoolctl>=3.1.0 in d:\\e drive\\all projects\\open_voice\\openvoice\\.venv\\lib\\site-packages (from scikit-learn>=0.19.1->librosa->ttsmms) (3.5.0)\n",
      "Requirement already satisfied: cffi>=1.0 in d:\\e drive\\all projects\\open_voice\\openvoice\\.venv\\lib\\site-packages (from soundfile>=0.10.2->librosa->ttsmms) (1.16.0)\n",
      "Requirement already satisfied: MarkupSafe>=2.0 in d:\\e drive\\all projects\\open_voice\\openvoice\\.venv\\lib\\site-packages (from jinja2->torch->ttsmms) (2.1.5)\n",
      "Requirement already satisfied: clldutils>=1.7.3 in d:\\e drive\\all projects\\open_voice\\openvoice\\.venv\\lib\\site-packages (from segments->phonemizer->ttsmms) (3.22.2)\n",
      "Requirement already satisfied: csvw>=1.5.6 in d:\\e drive\\all projects\\open_voice\\openvoice\\.venv\\lib\\site-packages (from segments->phonemizer->ttsmms) (3.3.0)\n",
      "Requirement already satisfied: regex in d:\\e drive\\all projects\\open_voice\\openvoice\\.venv\\lib\\site-packages (from segments->phonemizer->ttsmms) (2024.5.15)\n",
      "Requirement already satisfied: mpmath<1.4.0,>=1.1.0 in d:\\e drive\\all projects\\open_voice\\openvoice\\.venv\\lib\\site-packages (from sympy->torch->ttsmms) (1.3.0)\n",
      "Requirement already satisfied: pycparser in d:\\e drive\\all projects\\open_voice\\openvoice\\.venv\\lib\\site-packages (from cffi>=1.0->soundfile>=0.10.2->librosa->ttsmms) (2.22)\n",
      "Requirement already satisfied: python-dateutil in d:\\e drive\\all projects\\open_voice\\openvoice\\.venv\\lib\\site-packages (from clldutils>=1.7.3->segments->phonemizer->ttsmms) (2.9.0.post0)\n",
      "Requirement already satisfied: tabulate>=0.7.7 in d:\\e drive\\all projects\\open_voice\\openvoice\\.venv\\lib\\site-packages (from clldutils>=1.7.3->segments->phonemizer->ttsmms) (0.9.0)\n",
      "Requirement already satisfied: colorlog in d:\\e drive\\all projects\\open_voice\\openvoice\\.venv\\lib\\site-packages (from clldutils>=1.7.3->segments->phonemizer->ttsmms) (6.8.2)\n",
      "Requirement already satisfied: bibtexparser>=2.0.0b4 in d:\\e drive\\all projects\\open_voice\\openvoice\\.venv\\lib\\site-packages (from clldutils>=1.7.3->segments->phonemizer->ttsmms) (2.0.0b7)\n",
      "Requirement already satisfied: pylatexenc in d:\\e drive\\all projects\\open_voice\\openvoice\\.venv\\lib\\site-packages (from clldutils>=1.7.3->segments->phonemizer->ttsmms) (2.10)\n",
      "Requirement already satisfied: markdown in d:\\e drive\\all projects\\open_voice\\openvoice\\.venv\\lib\\site-packages (from clldutils>=1.7.3->segments->phonemizer->ttsmms) (3.6)\n",
      "Requirement already satisfied: lxml in d:\\e drive\\all projects\\open_voice\\openvoice\\.venv\\lib\\site-packages (from clldutils>=1.7.3->segments->phonemizer->ttsmms) (5.2.2)\n",
      "Requirement already satisfied: babel in d:\\e drive\\all projects\\open_voice\\openvoice\\.venv\\lib\\site-packages (from csvw>=1.5.6->segments->phonemizer->ttsmms) (2.15.0)\n",
      "Requirement already satisfied: colorama in d:\\e drive\\all projects\\open_voice\\openvoice\\.venv\\lib\\site-packages (from csvw>=1.5.6->segments->phonemizer->ttsmms) (0.4.6)\n",
      "Requirement already satisfied: isodate in d:\\e drive\\all projects\\open_voice\\openvoice\\.venv\\lib\\site-packages (from csvw>=1.5.6->segments->phonemizer->ttsmms) (0.6.1)\n",
      "Requirement already satisfied: jsonschema in d:\\e drive\\all projects\\open_voice\\openvoice\\.venv\\lib\\site-packages (from csvw>=1.5.6->segments->phonemizer->ttsmms) (4.22.0)\n",
      "Requirement already satisfied: language-tags in d:\\e drive\\all projects\\open_voice\\openvoice\\.venv\\lib\\site-packages (from csvw>=1.5.6->segments->phonemizer->ttsmms) (1.2.0)\n",
      "Requirement already satisfied: rdflib in d:\\e drive\\all projects\\open_voice\\openvoice\\.venv\\lib\\site-packages (from csvw>=1.5.6->segments->phonemizer->ttsmms) (7.0.0)\n",
      "Requirement already satisfied: rfc3986<2 in d:\\e drive\\all projects\\open_voice\\openvoice\\.venv\\lib\\site-packages (from csvw>=1.5.6->segments->phonemizer->ttsmms) (1.5.0)\n",
      "Requirement already satisfied: uritemplate>=3.0.0 in d:\\e drive\\all projects\\open_voice\\openvoice\\.venv\\lib\\site-packages (from csvw>=1.5.6->segments->phonemizer->ttsmms) (4.1.1)\n",
      "Requirement already satisfied: charset-normalizer<4,>=2 in d:\\e drive\\all projects\\open_voice\\openvoice\\.venv\\lib\\site-packages (from requests>=2.19.0->pooch>=1.0->librosa->ttsmms) (3.3.2)\n",
      "Requirement already satisfied: idna<4,>=2.5 in d:\\e drive\\all projects\\open_voice\\openvoice\\.venv\\lib\\site-packages (from requests>=2.19.0->pooch>=1.0->librosa->ttsmms) (3.7)\n",
      "Requirement already satisfied: urllib3<3,>=1.21.1 in d:\\e drive\\all projects\\open_voice\\openvoice\\.venv\\lib\\site-packages (from requests>=2.19.0->pooch>=1.0->librosa->ttsmms) (2.2.2)\n",
      "Requirement already satisfied: certifi>=2017.4.17 in d:\\e drive\\all projects\\open_voice\\openvoice\\.venv\\lib\\site-packages (from requests>=2.19.0->pooch>=1.0->librosa->ttsmms) (2024.6.2)\n",
      "Requirement already satisfied: six in d:\\e drive\\all projects\\open_voice\\openvoice\\.venv\\lib\\site-packages (from isodate->csvw>=1.5.6->segments->phonemizer->ttsmms) (1.16.0)\n",
      "Requirement already satisfied: jsonschema-specifications>=2023.03.6 in d:\\e drive\\all projects\\open_voice\\openvoice\\.venv\\lib\\site-packages (from jsonschema->csvw>=1.5.6->segments->phonemizer->ttsmms) (2023.12.1)\n",
      "Requirement already satisfied: referencing>=0.28.4 in d:\\e drive\\all projects\\open_voice\\openvoice\\.venv\\lib\\site-packages (from jsonschema->csvw>=1.5.6->segments->phonemizer->ttsmms) (0.35.1)\n",
      "Requirement already satisfied: rpds-py>=0.7.1 in d:\\e drive\\all projects\\open_voice\\openvoice\\.venv\\lib\\site-packages (from jsonschema->csvw>=1.5.6->segments->phonemizer->ttsmms) (0.18.1)\n",
      "Requirement already satisfied: pyparsing<4,>=2.1.0 in d:\\e drive\\all projects\\open_voice\\openvoice\\.venv\\lib\\site-packages (from rdflib->csvw>=1.5.6->segments->phonemizer->ttsmms) (3.1.2)\n",
      "Note: you may need to restart the kernel to use updated packages.\n"
     ]
    },
    {
     "name": "stderr",
     "output_type": "stream",
     "text": [
      "\n",
      "[notice] A new release of pip is available: 24.1 -> 24.3.1\n",
      "[notice] To update, run: python.exe -m pip install --upgrade pip\n"
     ]
    }
   ],
   "source": [
    "%pip install ttsmms"
   ]
  },
  {
   "cell_type": "code",
   "execution_count": 1,
   "id": "b7f043ee",
   "metadata": {},
   "outputs": [
    {
     "name": "stdout",
     "output_type": "stream",
     "text": [
      "Importing the dtw module. When using in academic works please cite:\n",
      "  T. Giorgino. Computing and Visualizing Dynamic Time Warping Alignments in R: The dtw Package.\n",
      "  J. Stat. Soft., doi:10.18637/jss.v031.i07.\n",
      "\n"
     ]
    }
   ],
   "source": [
    "import os\n",
    "import torch\n",
    "from openvoice import se_extractor\n",
    "from openvoice.api import BaseSpeakerTTS, ToneColorConverter"
   ]
  },
  {
   "cell_type": "markdown",
   "id": "15116b59",
   "metadata": {},
   "source": [
    "### Initialization"
   ]
  },
  {
   "cell_type": "code",
   "execution_count": 2,
   "id": "aacad912",
   "metadata": {},
   "outputs": [
    {
     "name": "stderr",
     "output_type": "stream",
     "text": [
      "d:\\E Drive\\All Projects\\Open_Voice\\OpenVoice\\.venv\\lib\\site-packages\\torch\\nn\\utils\\weight_norm.py:28: UserWarning: torch.nn.utils.weight_norm is deprecated in favor of torch.nn.utils.parametrizations.weight_norm.\n",
      "  warnings.warn(\"torch.nn.utils.weight_norm is deprecated in favor of torch.nn.utils.parametrizations.weight_norm.\")\n"
     ]
    },
    {
     "name": "stdout",
     "output_type": "stream",
     "text": [
      "Loaded checkpoint 'checkpoints/base_speakers/EN/checkpoint.pth'\n",
      "missing/unexpected keys: [] []\n",
      "Loaded checkpoint 'checkpoints_v2/converter/checkpoint.pth'\n",
      "missing/unexpected keys: [] []\n"
     ]
    }
   ],
   "source": [
    "ckpt_base = 'checkpoints/base_speakers/EN'\n",
    "ckpt_converter = 'checkpoints_v2/converter'\n",
    "device=\"cuda:0\" if torch.cuda.is_available() else \"cpu\"\n",
    "output_dir = 'outputs'\n",
    "\n",
    "base_speaker_tts = BaseSpeakerTTS(f'{ckpt_base}/config.json', device=device)\n",
    "base_speaker_tts.load_ckpt(f'{ckpt_base}/checkpoint.pth')\n",
    "\n",
    "tone_color_converter = ToneColorConverter(f'{ckpt_converter}/config.json', device=device)\n",
    "tone_color_converter.load_ckpt(f'{ckpt_converter}/checkpoint.pth')\n",
    "\n",
    "os.makedirs(output_dir, exist_ok=True)"
   ]
  },
  {
   "cell_type": "markdown",
   "id": "7f67740c",
   "metadata": {},
   "source": [
    "### Obtain Tone Color Embedding"
   ]
  },
  {
   "cell_type": "markdown",
   "id": "f8add279",
   "metadata": {},
   "source": [
    "The `source_se` is the tone color embedding of the base speaker. \n",
    "It is an average of multiple sentences generated by the base speaker. We directly provide the result here but\n",
    "the readers feel free to extract `source_se` by themselves."
   ]
  },
  {
   "cell_type": "code",
   "execution_count": 3,
   "id": "63ff6273",
   "metadata": {},
   "outputs": [],
   "source": [
    "source_se = torch.load(f'{ckpt_base}/en_default_se.pth').to(device)"
   ]
  },
  {
   "cell_type": "markdown",
   "id": "4f71fcc3",
   "metadata": {},
   "source": [
    "The `reference_speaker.mp3` below points to the short audio clip of the reference whose voice we want to clone. We provide an example here. If you use your own reference speakers, please **make sure each speaker has a unique filename.** The `se_extractor` will save the `targeted_se` using the filename of the audio and **will not automatically overwrite.**"
   ]
  },
  {
   "cell_type": "code",
   "execution_count": 4,
   "id": "55105eae",
   "metadata": {},
   "outputs": [
    {
     "name": "stdout",
     "output_type": "stream",
     "text": [
      "OpenVoice version: v2\n",
      "[(0.0, 524.9)]\n",
      "after vad: dur = 524.9\n"
     ]
    },
    {
     "name": "stderr",
     "output_type": "stream",
     "text": [
      "d:\\E Drive\\All Projects\\Open_Voice\\OpenVoice\\.venv\\lib\\site-packages\\torch\\functional.py:665: UserWarning: stft with return_complex=False is deprecated. In a future pytorch release, stft will return complex tensors for all inputs, and return_complex=False will raise an error.\n",
      "Note: you can still call torch.view_as_real on the complex output to recover the old return format. (Triggered internally at ..\\aten\\src\\ATen\\native\\SpectralOps.cpp:878.)\n",
      "  return _VF.stft(input, n_fft, hop_length, win_length, window,  # type: ignore[attr-defined]\n"
     ]
    }
   ],
   "source": [
    "reference_speaker = 'resources\\MaleVoiceKurdish.mp3' # This is the voice you want to clone\n",
    "reference_speaker = os.path.abspath(reference_speaker)\n",
    "target_se, audio_name = se_extractor.get_se(reference_speaker, tone_color_converter, target_dir='processed', vad=True)\n"
   ]
  },
  {
   "cell_type": "markdown",
   "id": "a40284aa",
   "metadata": {},
   "source": [
    "### Inference"
   ]
  },
  {
   "cell_type": "code",
   "execution_count": 51,
   "id": "477e7b15",
   "metadata": {},
   "outputs": [],
   "source": [
    "import scipy.io.wavfile as wavfile\n",
    "import numpy as np\n",
    "import os\n",
    "from ttsmms import TTS, download\n",
    "dir = download('kmr-script_latin','./data')\n",
    "tts = TTS(dir)"
   ]
  },
  {
   "cell_type": "code",
   "execution_count": 9,
   "id": "55ec1c05",
   "metadata": {},
   "outputs": [],
   "source": [
    "text = \"\"\"Çand û ziman bi saya peyvan dewam dike. Ew peyv jî, bi saya çîrokan emrekî gelek dirêj dikin.\"\"\"\n",
    "text = text.lower()\n",
    "save_path = f'{output_dir}/output_en_default04.wav'\n",
    "\n",
    "# Run the base speaker tts\n",
    "\n",
    "src_path = f'{output_dir}/2.wav'"
   ]
  },
  {
   "cell_type": "code",
   "execution_count": 53,
   "id": "e8cc0e7c",
   "metadata": {},
   "outputs": [
    {
     "name": "stdout",
     "output_type": "stream",
     "text": [
      "Audio saved successfully to outputs/tmp.wav\n",
      "çand û ziman bi saya peyvan dewam dike. ew peyv jî, bi saya çîrokan emrekî gelek dirêj dikin.\n"
     ]
    }
   ],
   "source": [
    "wav=tts.synthesis(text)\n",
    "    \n",
    "if not os.path.exists('output_audio'):\n",
    "    os.makedirs('output_audio')\n",
    "# Specify the file name\n",
    "\n",
    "# Save the audio file\n",
    "wavfile.write(src_path, wav[\"sampling_rate\"], wav[\"x\"].astype(np.float32))\n",
    "\n",
    "print(f\"Audio saved successfully to {src_path}\")\n",
    "print(text)"
   ]
  },
  {
   "cell_type": "code",
   "execution_count": 10,
   "id": "73dc1259",
   "metadata": {},
   "outputs": [],
   "source": [
    "\n",
    "# base_speaker_tts.tts(text, src_path, speaker='default', language='English', speed=0.8)\n",
    "\n",
    "# Run the tone color converter\n",
    "encode_message = \"@SAAD\"\n",
    "tone_color_converter.convert(\n",
    "    audio_src_path=src_path, \n",
    "    src_se=source_se, \n",
    "    tgt_se=target_se, \n",
    "    output_path=save_path,\n",
    "    message=encode_message)"
   ]
  },
  {
   "cell_type": "markdown",
   "id": "6e3ea28a",
   "metadata": {},
   "source": [
    "**Try with different styles and speed.** The style can be controlled by the `speaker` parameter in the `base_speaker_tts.tts` method. Available choices: friendly, cheerful, excited, sad, angry, terrified, shouting, whispering. Note that the tone color embedding need to be updated. The speed can be controlled by the `speed` parameter. Let's try whispering with speed 0.9."
   ]
  },
  {
   "cell_type": "code",
   "execution_count": 12,
   "id": "fd022d38",
   "metadata": {},
   "outputs": [],
   "source": [
    "source_se = torch.load(f'{ckpt_base}/en_style_se.pth').to(device)\n",
    "save_path = f'{output_dir}/output_whispering.wav'\n",
    "\n",
    "# Run the base speaker tts\n",
    "text = 'This Ai generated 123'\n",
    "# text = \"\"\"Îstixbarata Hunerî (AI) şaxek zanistiya komputerê ye ku armanc dike ku îstîxbarata makîneyê û pêşkeftina wê pêş bixe. Piraniya pirtûkên AI-ê qadê wekî \"lêkolîn û sêwirana amûrên aqilmend\" pênase dikin, [1] ku amûrek aqilmend pergalek e ku rewşa xwe dihese û tevdigere da ku şansên xwe yên serfiraziyê zêde bike.\"\"\"\n",
    "src_path = f'{output_dir}/2.wav'\n",
    "# base_speaker_tts.tts(text, src_path, speaker='whispering', language='English', speed=0.9)\n",
    "\n",
    "# Run the tone color converter\n",
    "encode_message = \"@MyShell\"\n",
    "tone_color_converter.convert(\n",
    "    audio_src_path=src_path, \n",
    "    src_se=source_se, \n",
    "    tgt_se=target_se, \n",
    "    output_path=save_path,\n",
    "    message=encode_message)"
   ]
  },
  {
   "cell_type": "markdown",
   "id": "5fcfc70b",
   "metadata": {},
   "source": [
    "**Try with different languages.** OpenVoice can achieve multi-lingual voice cloning by simply replace the base speaker. We provide an example with a Chinese base speaker here and we encourage the readers to try `demo_part2.ipynb` for a detailed demo."
   ]
  },
  {
   "cell_type": "code",
   "execution_count": null,
   "id": "a71d1387",
   "metadata": {},
   "outputs": [],
   "source": [
    "\n",
    "ckpt_base = 'checkpoints/base_speakers/ZH'\n",
    "base_speaker_tts = BaseSpeakerTTS(f'{ckpt_base}/config.json', device=device)\n",
    "base_speaker_tts.load_ckpt(f'{ckpt_base}/checkpoint.pth')\n",
    "\n",
    "source_se = torch.load(f'{ckpt_base}/zh_default_se.pth').to(device)\n",
    "save_path = f'{output_dir}/output_chinese.wav'\n",
    "\n",
    "# Run the base speaker tts\n",
    "text = \"今天天气真好，我们一起出去吃饭吧。\"\n",
    "src_path = f'{output_dir}/tmp.wav'\n",
    "base_speaker_tts.tts(text, src_path, speaker='default', language='Chinese', speed=1.0)\n",
    "\n",
    "# Run the tone color converter\n",
    "encode_message = \"@MyShell\"\n",
    "tone_color_converter.convert(\n",
    "    audio_src_path=src_path, \n",
    "    src_se=source_se, \n",
    "    tgt_se=target_se, \n",
    "    output_path=save_path,\n",
    "    message=encode_message)"
   ]
  },
  {
   "cell_type": "markdown",
   "id": "8e513094",
   "metadata": {},
   "source": [
    "**Tech for good.** For people who will deploy OpenVoice for public usage: We offer you the option to add watermark to avoid potential misuse. Please see the ToneColorConverter class. **MyShell reserves the ability to detect whether an audio is generated by OpenVoice**, no matter whether the watermark is added or not."
   ]
  }
 ],
 "metadata": {
  "kernelspec": {
   "display_name": ".venv",
   "language": "python",
   "name": "python3"
  },
  "language_info": {
   "codemirror_mode": {
    "name": "ipython",
    "version": 3
   },
   "file_extension": ".py",
   "mimetype": "text/x-python",
   "name": "python",
   "nbconvert_exporter": "python",
   "pygments_lexer": "ipython3",
   "version": "3.10.11"
  }
 },
 "nbformat": 4,
 "nbformat_minor": 5
}
